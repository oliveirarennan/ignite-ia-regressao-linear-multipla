{
 "cells": [
  {
   "cell_type": "code",
   "execution_count": 2,
   "metadata": {},
   "outputs": [],
   "source": [
    "import gradio as gr\n",
    "import joblib\n",
    "import pandas as pd\n"
   ]
  },
  {
   "cell_type": "code",
   "execution_count": 3,
   "metadata": {},
   "outputs": [],
   "source": [
    "modelo = joblib.load('./modelo_colesterol.pkl')"
   ]
  },
  {
   "cell_type": "code",
   "execution_count": 8,
   "metadata": {},
   "outputs": [],
   "source": [
    "def predict(grupo_sanguineo, fumante, nivel_atividade_fisica, idade, peso, altura):\n",
    "  _fumante = \"Sim\" if fumante else \"Não\"\n",
    "  predicao_individual = {\n",
    "  'grupo_sanguineo': grupo_sanguineo,\n",
    "  'fumante': _fumante,\n",
    "  'nivel_atividade_fisica': nivel_atividade_fisica,\n",
    "  'idade': idade,\n",
    "  'peso': peso,\n",
    "  'altura': altura\n",
    "}\n",
    "\n",
    "  predict_df = pd.DataFrame(predicao_individual, index=[1])\n",
    "  colesterol = modelo.predict(predict_df)\n",
    "\n",
    "  return colesterol.reshape(-1)"
   ]
  },
  {
   "cell_type": "code",
   "execution_count": 10,
   "metadata": {},
   "outputs": [],
   "source": [
    "demo = gr.Interface(\n",
    "  fn=predict, \n",
    "  inputs=[\n",
    "    gr.Radio(label='Tipo Sanguíneo' ,choices=['O', 'A', 'B', 'AB']),\n",
    "     'checkbox',\n",
    "    gr.Radio(label='Nível de atividade física' , choices=['Baixo', 'Moderado', 'Alto']),\n",
    "    gr.Slider(label='Idade',  minimum=20, maximum=80, step=1),\n",
    "    gr.Slider(label='Peso', minimum=40, maximum=160, step=0.1),\n",
    "    gr.Slider(label='Altura', minimum=150, maximum=200, step=1)\n",
    "  ],\n",
    "  outputs=['number']\n",
    ")"
   ]
  },
  {
   "cell_type": "code",
   "execution_count": 11,
   "metadata": {},
   "outputs": [
    {
     "name": "stdout",
     "output_type": "stream",
     "text": [
      "Running on local URL:  http://127.0.0.1:7861\n",
      "\n",
      "To create a public link, set `share=True` in `launch()`.\n"
     ]
    },
    {
     "data": {
      "text/html": [
       "<div><iframe src=\"http://127.0.0.1:7861/\" width=\"100%\" height=\"500\" allow=\"autoplay; camera; microphone; clipboard-read; clipboard-write;\" frameborder=\"0\" allowfullscreen></iframe></div>"
      ],
      "text/plain": [
       "<IPython.core.display.HTML object>"
      ]
     },
     "metadata": {},
     "output_type": "display_data"
    },
    {
     "data": {
      "text/plain": []
     },
     "execution_count": 11,
     "metadata": {},
     "output_type": "execute_result"
    }
   ],
   "source": [
    "demo.launch()"
   ]
  }
 ],
 "metadata": {
  "kernelspec": {
   "display_name": "regressao_linear_multipla-8D58ZPUr",
   "language": "python",
   "name": "python3"
  },
  "language_info": {
   "codemirror_mode": {
    "name": "ipython",
    "version": 3
   },
   "file_extension": ".py",
   "mimetype": "text/x-python",
   "name": "python",
   "nbconvert_exporter": "python",
   "pygments_lexer": "ipython3",
   "version": "3.11.6"
  }
 },
 "nbformat": 4,
 "nbformat_minor": 2
}
